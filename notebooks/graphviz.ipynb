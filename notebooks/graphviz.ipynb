{
 "cells": [
  {
   "cell_type": "markdown",
   "metadata": {},
   "source": [
    "### pico40"
   ]
  },
  {
   "cell_type": "code",
   "execution_count": 1,
   "metadata": {},
   "outputs": [
    {
     "name": "stdout",
     "output_type": "stream",
     "text": [
      "import mantle lattice ice40\n",
      "import mantle lattice mantle40\n",
      "Building instruction decoder\n",
      "Building sequencer\n",
      "Building register file\n",
      "Building ALU\n"
     ]
    }
   ],
   "source": [
    "import os\n",
    "os.environ['MANTLE_TARGET'] = 'ice40'\n",
    "from pico40.asm import *\n",
    "from pico40.setup import makepicoicestick\n",
    "\n",
    "def prog():\n",
    "    ldlo(r0, 2)\n",
    "    ldlo(r1, 2)\n",
    "    add(r1,r0)\n",
    "    st(r1, 0)\n",
    "    jmp(0)\n",
    "\n",
    "main = makepicoicestick(prog, 8, 8)"
   ]
  },
  {
   "cell_type": "markdown",
   "metadata": {},
   "source": [
    "Visualize it!"
   ]
  },
  {
   "cell_type": "code",
   "execution_count": 2,
   "metadata": {},
   "outputs": [
    {
     "name": "stderr",
     "output_type": "stream",
     "text": [
      "Format: \"svg\" not recognized. Use one of:\n"
     ]
    },
    {
     "name": "stdout",
     "output_type": "stream",
     "text": [
      "<class 'str'>\n",
      "Warning (firrtl): input C not connected to an output\n",
      "<class 'str'>\n",
      "Warning (firrtl): input C not connected to an output\n",
      "<class 'str'>\n",
      "Warning (firrtl): input C not connected to an output\n",
      "<class 'str'>\n",
      "Warning (firrtl): input C not connected to an output\n",
      "<class 'str'>\n",
      "Warning (firrtl): input C not connected to an output\n",
      "<class 'str'>\n",
      "Warning (firrtl): input C not connected to an output\n",
      "<class 'str'>\n",
      "Warning (firrtl): input C not connected to an output\n",
      "<class 'str'>\n",
      "Warning (firrtl): input C not connected to an output\n",
      "<class 'str'>\n",
      "Warning (firrtl): input CLK not connected to an output\n",
      "<class 'str'>\n",
      "Warning (firrtl): input CLK not connected to an output\n",
      "<class 'str'>\n",
      "Warning (firrtl): input CLK not connected to an output\n",
      "<class 'str'>\n",
      "Warning (firrtl): input CLK not connected to an output\n",
      "<class 'str'>\n",
      "Warning (firrtl): input CLK not connected to an output\n",
      "<class 'str'>\n",
      "Warning (firrtl): input CLK not connected to an output\n",
      "<class 'str'>\n",
      "Warning (firrtl): input CLK not connected to an output\n",
      "<class 'str'>\n",
      "Warning (firrtl): input CLK not connected to an output\n",
      "<class 'str'>\n",
      "Warning (firrtl): input CLK not connected to an output\n",
      "<class 'str'>\n",
      "Warning (firrtl): input CLK not connected to an output\n",
      "<class 'str'>\n",
      "Warning (firrtl): input CLK not connected to an output\n",
      "<class 'str'>\n",
      "Warning (firrtl): input CLK not connected to an output\n",
      "<class 'str'>\n",
      "Warning (firrtl): input CLK not connected to an output\n",
      "<class 'str'>\n",
      "Warning (firrtl): input CLK not connected to an output\n",
      "<class 'str'>\n",
      "Warning (firrtl): input CLK not connected to an output\n",
      "<class 'str'>\n",
      "Warning (firrtl): input CLK not connected to an output\n",
      "<class 'str'>\n",
      "Warning (firrtl): input C not connected to an output\n",
      "<class 'str'>\n",
      "Warning (firrtl): input C not connected to an output\n",
      "<class 'str'>\n",
      "Warning (firrtl): input CLK not connected to an output\n",
      "<class 'str'>\n",
      "Warning (firrtl): input CLK not connected to an output\n",
      "<class 'str'>\n",
      "Warning (firrtl): input RCLK not connected to an output\n",
      "<class 'str'>\n",
      "Warning (firrtl): input WCLK not connected to an output\n",
      "<class 'str'>\n",
      "Warning (firrtl): input CLK not connected to an output\n",
      "<class 'str'>\n",
      "Warning (firrtl): input CLK not connected to an output\n"
     ]
    },
    {
     "ename": "CalledProcessError",
     "evalue": "Command '['dot', '-Tsvg']' returned non-zero exit status 1.",
     "output_type": "error",
     "traceback": [
      "\u001b[0;31m---------------------------------------------------------------------------\u001b[0m",
      "\u001b[0;31mCalledProcessError\u001b[0m                        Traceback (most recent call last)",
      "\u001b[0;32m/usr/local/lib/python3.6/site-packages/IPython/core/formatters.py\u001b[0m in \u001b[0;36m__call__\u001b[0;34m(self, obj)\u001b[0m\n\u001b[1;32m    330\u001b[0m                 \u001b[0;32mpass\u001b[0m\u001b[0;34m\u001b[0m\u001b[0m\n\u001b[1;32m    331\u001b[0m             \u001b[0;32melse\u001b[0m\u001b[0;34m:\u001b[0m\u001b[0;34m\u001b[0m\u001b[0m\n\u001b[0;32m--> 332\u001b[0;31m                 \u001b[0;32mreturn\u001b[0m \u001b[0mprinter\u001b[0m\u001b[0;34m(\u001b[0m\u001b[0mobj\u001b[0m\u001b[0;34m)\u001b[0m\u001b[0;34m\u001b[0m\u001b[0m\n\u001b[0m\u001b[1;32m    333\u001b[0m             \u001b[0;31m# Finally look for special method names\u001b[0m\u001b[0;34m\u001b[0m\u001b[0;34m\u001b[0m\u001b[0m\n\u001b[1;32m    334\u001b[0m             \u001b[0mmethod\u001b[0m \u001b[0;34m=\u001b[0m \u001b[0mget_real_method\u001b[0m\u001b[0;34m(\u001b[0m\u001b[0mobj\u001b[0m\u001b[0;34m,\u001b[0m \u001b[0mself\u001b[0m\u001b[0;34m.\u001b[0m\u001b[0mprint_method\u001b[0m\u001b[0;34m)\u001b[0m\u001b[0;34m\u001b[0m\u001b[0m\n",
      "\u001b[0;32m~/git/magma/magma/backend/dot.py\u001b[0m in \u001b[0;36mto_html\u001b[0;34m(main)\u001b[0m\n\u001b[1;32m    128\u001b[0m \u001b[0;34m\u001b[0m\u001b[0m\n\u001b[1;32m    129\u001b[0m \u001b[0;32mdef\u001b[0m \u001b[0mto_html\u001b[0m\u001b[0;34m(\u001b[0m\u001b[0mmain\u001b[0m\u001b[0;34m)\u001b[0m\u001b[0;34m:\u001b[0m\u001b[0;34m\u001b[0m\u001b[0m\n\u001b[0;32m--> 130\u001b[0;31m     \u001b[0;32mreturn\u001b[0m \u001b[0;34m\"\\n\"\u001b[0m\u001b[0;34m.\u001b[0m\u001b[0mjoin\u001b[0m\u001b[0;34m(\u001b[0m\u001b[0;34m[\u001b[0m\u001b[0mdot\u001b[0m\u001b[0;34m.\u001b[0m\u001b[0m_repr_svg_\u001b[0m\u001b[0;34m(\u001b[0m\u001b[0;34m)\u001b[0m \u001b[0;32mfor\u001b[0m \u001b[0mdot\u001b[0m \u001b[0;32min\u001b[0m \u001b[0mdots\u001b[0m\u001b[0;34m(\u001b[0m\u001b[0mmain\u001b[0m\u001b[0;34m)\u001b[0m\u001b[0;34m]\u001b[0m\u001b[0;34m)\u001b[0m\u001b[0;34m\u001b[0m\u001b[0m\n\u001b[0m\u001b[1;32m    131\u001b[0m \u001b[0;34m\u001b[0m\u001b[0m\n\u001b[1;32m    132\u001b[0m \u001b[0;32mdef\u001b[0m \u001b[0mcompile\u001b[0m\u001b[0;34m(\u001b[0m\u001b[0mmain\u001b[0m\u001b[0;34m)\u001b[0m\u001b[0;34m:\u001b[0m\u001b[0;34m\u001b[0m\u001b[0m\n",
      "\u001b[0;32m~/git/magma/magma/backend/dot.py\u001b[0m in \u001b[0;36m<listcomp>\u001b[0;34m(.0)\u001b[0m\n\u001b[1;32m    128\u001b[0m \u001b[0;34m\u001b[0m\u001b[0m\n\u001b[1;32m    129\u001b[0m \u001b[0;32mdef\u001b[0m \u001b[0mto_html\u001b[0m\u001b[0;34m(\u001b[0m\u001b[0mmain\u001b[0m\u001b[0;34m)\u001b[0m\u001b[0;34m:\u001b[0m\u001b[0;34m\u001b[0m\u001b[0m\n\u001b[0;32m--> 130\u001b[0;31m     \u001b[0;32mreturn\u001b[0m \u001b[0;34m\"\\n\"\u001b[0m\u001b[0;34m.\u001b[0m\u001b[0mjoin\u001b[0m\u001b[0;34m(\u001b[0m\u001b[0;34m[\u001b[0m\u001b[0mdot\u001b[0m\u001b[0;34m.\u001b[0m\u001b[0m_repr_svg_\u001b[0m\u001b[0;34m(\u001b[0m\u001b[0;34m)\u001b[0m \u001b[0;32mfor\u001b[0m \u001b[0mdot\u001b[0m \u001b[0;32min\u001b[0m \u001b[0mdots\u001b[0m\u001b[0;34m(\u001b[0m\u001b[0mmain\u001b[0m\u001b[0;34m)\u001b[0m\u001b[0;34m]\u001b[0m\u001b[0;34m)\u001b[0m\u001b[0;34m\u001b[0m\u001b[0m\n\u001b[0m\u001b[1;32m    131\u001b[0m \u001b[0;34m\u001b[0m\u001b[0m\n\u001b[1;32m    132\u001b[0m \u001b[0;32mdef\u001b[0m \u001b[0mcompile\u001b[0m\u001b[0;34m(\u001b[0m\u001b[0mmain\u001b[0m\u001b[0;34m)\u001b[0m\u001b[0;34m:\u001b[0m\u001b[0;34m\u001b[0m\u001b[0m\n",
      "\u001b[0;32m/usr/local/lib/python3.6/site-packages/graphviz/files.py\u001b[0m in \u001b[0;36m_repr_svg_\u001b[0;34m(self)\u001b[0m\n\u001b[1;32m     99\u001b[0m \u001b[0;34m\u001b[0m\u001b[0m\n\u001b[1;32m    100\u001b[0m     \u001b[0;32mdef\u001b[0m \u001b[0m_repr_svg_\u001b[0m\u001b[0;34m(\u001b[0m\u001b[0mself\u001b[0m\u001b[0;34m)\u001b[0m\u001b[0;34m:\u001b[0m\u001b[0;34m\u001b[0m\u001b[0m\n\u001b[0;32m--> 101\u001b[0;31m         \u001b[0;32mreturn\u001b[0m \u001b[0mself\u001b[0m\u001b[0;34m.\u001b[0m\u001b[0mpipe\u001b[0m\u001b[0;34m(\u001b[0m\u001b[0mformat\u001b[0m\u001b[0;34m=\u001b[0m\u001b[0;34m'svg'\u001b[0m\u001b[0;34m)\u001b[0m\u001b[0;34m.\u001b[0m\u001b[0mdecode\u001b[0m\u001b[0;34m(\u001b[0m\u001b[0mself\u001b[0m\u001b[0;34m.\u001b[0m\u001b[0m_encoding\u001b[0m\u001b[0;34m)\u001b[0m\u001b[0;34m\u001b[0m\u001b[0m\n\u001b[0m\u001b[1;32m    102\u001b[0m \u001b[0;34m\u001b[0m\u001b[0m\n\u001b[1;32m    103\u001b[0m     \u001b[0;32mdef\u001b[0m \u001b[0mpipe\u001b[0m\u001b[0;34m(\u001b[0m\u001b[0mself\u001b[0m\u001b[0;34m,\u001b[0m \u001b[0mformat\u001b[0m\u001b[0;34m=\u001b[0m\u001b[0;32mNone\u001b[0m\u001b[0;34m)\u001b[0m\u001b[0;34m:\u001b[0m\u001b[0;34m\u001b[0m\u001b[0m\n",
      "\u001b[0;32m/usr/local/lib/python3.6/site-packages/graphviz/files.py\u001b[0m in \u001b[0;36mpipe\u001b[0;34m(self, format)\u001b[0m\n\u001b[1;32m    118\u001b[0m         \u001b[0mdata\u001b[0m \u001b[0;34m=\u001b[0m \u001b[0mtext_type\u001b[0m\u001b[0;34m(\u001b[0m\u001b[0mself\u001b[0m\u001b[0;34m.\u001b[0m\u001b[0msource\u001b[0m\u001b[0;34m)\u001b[0m\u001b[0;34m.\u001b[0m\u001b[0mencode\u001b[0m\u001b[0;34m(\u001b[0m\u001b[0mself\u001b[0m\u001b[0;34m.\u001b[0m\u001b[0m_encoding\u001b[0m\u001b[0;34m)\u001b[0m\u001b[0;34m\u001b[0m\u001b[0m\n\u001b[1;32m    119\u001b[0m \u001b[0;34m\u001b[0m\u001b[0m\n\u001b[0;32m--> 120\u001b[0;31m         \u001b[0mouts\u001b[0m \u001b[0;34m=\u001b[0m \u001b[0mbackend\u001b[0m\u001b[0;34m.\u001b[0m\u001b[0mpipe\u001b[0m\u001b[0;34m(\u001b[0m\u001b[0mself\u001b[0m\u001b[0;34m.\u001b[0m\u001b[0m_engine\u001b[0m\u001b[0;34m,\u001b[0m \u001b[0mformat\u001b[0m\u001b[0;34m,\u001b[0m \u001b[0mdata\u001b[0m\u001b[0;34m)\u001b[0m\u001b[0;34m\u001b[0m\u001b[0m\n\u001b[0m\u001b[1;32m    121\u001b[0m \u001b[0;34m\u001b[0m\u001b[0m\n\u001b[1;32m    122\u001b[0m         \u001b[0;32mreturn\u001b[0m \u001b[0mouts\u001b[0m\u001b[0;34m\u001b[0m\u001b[0m\n",
      "\u001b[0;32m/usr/local/lib/python3.6/site-packages/graphviz/backend.py\u001b[0m in \u001b[0;36mpipe\u001b[0;34m(engine, format, data, quiet)\u001b[0m\n\u001b[1;32m    164\u001b[0m             \u001b[0mstderr_write_binary\u001b[0m\u001b[0;34m(\u001b[0m\u001b[0merrs\u001b[0m\u001b[0;34m)\u001b[0m\u001b[0;34m\u001b[0m\u001b[0m\n\u001b[1;32m    165\u001b[0m             \u001b[0msys\u001b[0m\u001b[0;34m.\u001b[0m\u001b[0mstderr\u001b[0m\u001b[0;34m.\u001b[0m\u001b[0mflush\u001b[0m\u001b[0;34m(\u001b[0m\u001b[0;34m)\u001b[0m\u001b[0;34m\u001b[0m\u001b[0m\n\u001b[0;32m--> 166\u001b[0;31m         \u001b[0;32mraise\u001b[0m \u001b[0msubprocess\u001b[0m\u001b[0;34m.\u001b[0m\u001b[0mCalledProcessError\u001b[0m\u001b[0;34m(\u001b[0m\u001b[0mproc\u001b[0m\u001b[0;34m.\u001b[0m\u001b[0mreturncode\u001b[0m\u001b[0;34m,\u001b[0m \u001b[0margs\u001b[0m\u001b[0;34m,\u001b[0m \u001b[0moutput\u001b[0m\u001b[0;34m=\u001b[0m\u001b[0mouts\u001b[0m\u001b[0;34m)\u001b[0m\u001b[0;34m\u001b[0m\u001b[0m\n\u001b[0m\u001b[1;32m    167\u001b[0m \u001b[0;34m\u001b[0m\u001b[0m\n\u001b[1;32m    168\u001b[0m     \u001b[0;32mreturn\u001b[0m \u001b[0mouts\u001b[0m\u001b[0;34m\u001b[0m\u001b[0m\n",
      "\u001b[0;31mCalledProcessError\u001b[0m: Command '['dot', '-Tsvg']' returned non-zero exit status 1."
     ]
    },
    {
     "data": {
      "text/plain": [
       "main = DefineCircuit(\"main\", \"J1\", In(Bits(8)), \"J3\", Out(Bits(8)), \"CLKIN\", In(Clock))\n",
       "inst0 = SB_RAM40_4K(WRITE_MODE=\"0\", READ_MODE=\"0\", INIT_0=0x000000000000000000000000000000000000000000cf00b100410081028002, INIT_1=0x00000000000000000000000000000000000000000000000000000000000000, INIT_2=0x00000000000000000000000000000000000000000000000000000000000000, INIT_3=0x00000000000000000000000000000000000000000000000000000000000000, INIT_4=0x00000000000000000000000000000000000000000000000000000000000000, INIT_5=0x00000000000000000000000000000000000000000000000000000000000000, INIT_6=0x00000000000000000000000000000000000000000000000000000000000000, INIT_7=0x00000000000000000000000000000000000000000000000000000000000000, INIT_8=0x00000000000000000000000000000000000000000000000000000000000000, INIT_9=0x00000000000000000000000000000000000000000000000000000000000000, INIT_A=0x00000000000000000000000000000000000000000000000000000000000000, INIT_B=0x00000000000000000000000000000000000000000000000000000000000000, INIT_C=0x00000000000000000000000000000000000000000000000000000000000000, INIT_D=0x00000000000000000000000000000000000000000000000000000000000000, INIT_E=0x00000000000000000000000000000000000000000000000000000000000000, INIT_F=0x00000000000000000000000000000000000000000000000000000000000000)\n",
       "inst1 = pico()\n",
       "inst2 = Register8CE()\n",
       "wire(inst1.addr[0], inst0.RADDR[0])\n",
       "wire(inst1.addr[1], inst0.RADDR[1])\n",
       "wire(inst1.addr[2], inst0.RADDR[2])\n",
       "wire(inst1.addr[3], inst0.RADDR[3])\n",
       "wire(inst1.addr[4], inst0.RADDR[4])\n",
       "wire(inst1.addr[5], inst0.RADDR[5])\n",
       "wire(inst1.addr[6], inst0.RADDR[6])\n",
       "wire(inst1.addr[7], inst0.RADDR[7])\n",
       "wire(0, inst0.RADDR[8])\n",
       "wire(0, inst0.RADDR[9])\n",
       "wire(0, inst0.RADDR[10])\n",
       "wire(1, inst0.RCLKE)\n",
       "wire(1, inst0.RE)\n",
       "wire(0, inst0.WCLKE)\n",
       "wire(0, inst0.WE)\n",
       "wire(0, inst0.WADDR[0])\n",
       "wire(0, inst0.WADDR[1])\n",
       "wire(0, inst0.WADDR[2])\n",
       "wire(0, inst0.WADDR[3])\n",
       "wire(0, inst0.WADDR[4])\n",
       "wire(0, inst0.WADDR[5])\n",
       "wire(0, inst0.WADDR[6])\n",
       "wire(0, inst0.WADDR[7])\n",
       "wire(0, inst0.WADDR[8])\n",
       "wire(0, inst0.WADDR[9])\n",
       "wire(0, inst0.WADDR[10])\n",
       "wire(0, inst0.MASK[0])\n",
       "wire(0, inst0.MASK[1])\n",
       "wire(0, inst0.MASK[2])\n",
       "wire(0, inst0.MASK[3])\n",
       "wire(0, inst0.MASK[4])\n",
       "wire(0, inst0.MASK[5])\n",
       "wire(0, inst0.MASK[6])\n",
       "wire(0, inst0.MASK[7])\n",
       "wire(0, inst0.MASK[8])\n",
       "wire(0, inst0.MASK[9])\n",
       "wire(0, inst0.MASK[10])\n",
       "wire(0, inst0.MASK[11])\n",
       "wire(0, inst0.MASK[12])\n",
       "wire(0, inst0.MASK[13])\n",
       "wire(0, inst0.MASK[14])\n",
       "wire(0, inst0.MASK[15])\n",
       "wire(0, inst0.WDATA[0])\n",
       "wire(0, inst0.WDATA[1])\n",
       "wire(0, inst0.WDATA[2])\n",
       "wire(0, inst0.WDATA[3])\n",
       "wire(0, inst0.WDATA[4])\n",
       "wire(0, inst0.WDATA[5])\n",
       "wire(0, inst0.WDATA[6])\n",
       "wire(0, inst0.WDATA[7])\n",
       "wire(0, inst0.WDATA[8])\n",
       "wire(0, inst0.WDATA[9])\n",
       "wire(0, inst0.WDATA[10])\n",
       "wire(0, inst0.WDATA[11])\n",
       "wire(0, inst0.WDATA[12])\n",
       "wire(0, inst0.WDATA[13])\n",
       "wire(0, inst0.WDATA[14])\n",
       "wire(0, inst0.WDATA[15])\n",
       "EndCircuit()"
      ]
     },
     "execution_count": 2,
     "metadata": {},
     "output_type": "execute_result"
    }
   ],
   "source": [
    "main"
   ]
  }
 ],
 "metadata": {
  "kernelspec": {
   "display_name": "Python 3",
   "language": "python",
   "name": "python3"
  },
  "language_info": {
   "codemirror_mode": {
    "name": "ipython",
    "version": 3
   },
   "file_extension": ".py",
   "mimetype": "text/x-python",
   "name": "python",
   "nbconvert_exporter": "python",
   "pygments_lexer": "ipython3",
   "version": "3.6.2"
  }
 },
 "nbformat": 4,
 "nbformat_minor": 2
}
